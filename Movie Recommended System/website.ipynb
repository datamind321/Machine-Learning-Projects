{
 "cells": [
  {
   "cell_type": "code",
   "execution_count": 1,
   "id": "7e1ec7f2",
   "metadata": {
    "pycharm": {
     "name": "#%%\n"
    }
   },
   "outputs": [
    {
     "name": "stdout",
     "output_type": "stream",
     "text": [
      "Requirement already satisfied: streamlit in c:\\users\\dell\\anaconda3\\lib\\site-packages (1.13.0)\n",
      "Requirement already satisfied: pyarrow>=4.0 in c:\\users\\dell\\anaconda3\\lib\\site-packages (from streamlit) (9.0.0)\n",
      "Requirement already satisfied: semver in c:\\users\\dell\\anaconda3\\lib\\site-packages (from streamlit) (2.13.0)\n",
      "Requirement already satisfied: altair>=3.2.0 in c:\\users\\dell\\anaconda3\\lib\\site-packages (from streamlit) (4.2.0)\n",
      "Requirement already satisfied: gitpython!=3.1.19 in c:\\users\\dell\\anaconda3\\lib\\site-packages (from streamlit) (3.1.28)\n",
      "Requirement already satisfied: tornado>=5.0 in c:\\users\\dell\\anaconda3\\lib\\site-packages (from streamlit) (6.1)\n",
      "Requirement already satisfied: pydeck>=0.1.dev5 in c:\\users\\dell\\anaconda3\\lib\\site-packages (from streamlit) (0.8.0b3)\n",
      "Requirement already satisfied: blinker>=1.0.0 in c:\\users\\dell\\anaconda3\\lib\\site-packages (from streamlit) (1.5)\n",
      "Requirement already satisfied: cachetools>=4.0 in c:\\users\\dell\\anaconda3\\lib\\site-packages (from streamlit) (5.2.0)\n",
      "Requirement already satisfied: toml in c:\\users\\dell\\anaconda3\\lib\\site-packages (from streamlit) (0.10.2)\n",
      "Requirement already satisfied: watchdog in c:\\users\\dell\\anaconda3\\lib\\site-packages (from streamlit) (1.0.2)\n",
      "Requirement already satisfied: python-dateutil in c:\\users\\dell\\anaconda3\\lib\\site-packages (from streamlit) (2.8.1)\n",
      "Requirement already satisfied: importlib-metadata>=1.4 in c:\\users\\dell\\anaconda3\\lib\\site-packages (from streamlit) (4.12.0)\n",
      "Requirement already satisfied: requests>=2.4 in c:\\users\\dell\\anaconda3\\lib\\site-packages (from streamlit) (2.25.1)\n",
      "Requirement already satisfied: typing-extensions>=3.10.0.0 in c:\\users\\dell\\anaconda3\\lib\\site-packages (from streamlit) (4.4.0)\n",
      "Requirement already satisfied: validators>=0.2 in c:\\users\\dell\\anaconda3\\lib\\site-packages (from streamlit) (0.20.0)\n",
      "Requirement already satisfied: pandas>=0.21.0 in c:\\users\\dell\\anaconda3\\lib\\site-packages (from streamlit) (1.2.4)\n",
      "Requirement already satisfied: protobuf!=3.20.2,<4,>=3.12 in c:\\users\\dell\\anaconda3\\lib\\site-packages (from streamlit) (3.19.4)\n",
      "Requirement already satisfied: click>=7.0 in c:\\users\\dell\\anaconda3\\lib\\site-packages (from streamlit) (7.1.2)\n",
      "Requirement already satisfied: pillow>=6.2.0 in c:\\users\\dell\\anaconda3\\lib\\site-packages (from streamlit) (8.2.0)\n",
      "Requirement already satisfied: rich>=10.11.0 in c:\\users\\dell\\anaconda3\\lib\\site-packages (from streamlit) (12.6.0)\n",
      "Requirement already satisfied: packaging>=14.1 in c:\\users\\dell\\anaconda3\\lib\\site-packages (from streamlit) (20.9)\n",
      "Requirement already satisfied: tzlocal>=1.1 in c:\\users\\dell\\anaconda3\\lib\\site-packages (from streamlit) (4.2)\n",
      "Requirement already satisfied: numpy in c:\\users\\dell\\anaconda3\\lib\\site-packages (from streamlit) (1.23.3)\n",
      "Requirement already satisfied: pympler>=0.9 in c:\\users\\dell\\anaconda3\\lib\\site-packages (from streamlit) (1.0.1)\n",
      "Requirement already satisfied: entrypoints in c:\\users\\dell\\anaconda3\\lib\\site-packages (from altair>=3.2.0->streamlit) (0.3)\n",
      "Requirement already satisfied: jinja2 in c:\\users\\dell\\anaconda3\\lib\\site-packages (from altair>=3.2.0->streamlit) (2.11.3)\n",
      "Requirement already satisfied: toolz in c:\\users\\dell\\anaconda3\\lib\\site-packages (from altair>=3.2.0->streamlit) (0.11.1)\n",
      "Requirement already satisfied: jsonschema>=3.0 in c:\\users\\dell\\anaconda3\\lib\\site-packages (from altair>=3.2.0->streamlit) (3.2.0)\n",
      "Requirement already satisfied: gitdb<5,>=4.0.1 in c:\\users\\dell\\anaconda3\\lib\\site-packages (from gitpython!=3.1.19->streamlit) (4.0.9)\n",
      "Requirement already satisfied: smmap<6,>=3.0.1 in c:\\users\\dell\\anaconda3\\lib\\site-packages (from gitdb<5,>=4.0.1->gitpython!=3.1.19->streamlit) (5.0.0)\n",
      "Requirement already satisfied: zipp>=0.5 in c:\\users\\dell\\anaconda3\\lib\\site-packages (from importlib-metadata>=1.4->streamlit) (3.4.1)\n",
      "Requirement already satisfied: pyrsistent>=0.14.0 in c:\\users\\dell\\anaconda3\\lib\\site-packages (from jsonschema>=3.0->altair>=3.2.0->streamlit) (0.17.3)\n",
      "Requirement already satisfied: six>=1.11.0 in c:\\users\\dell\\anaconda3\\lib\\site-packages (from jsonschema>=3.0->altair>=3.2.0->streamlit) (1.15.0)\n",
      "Requirement already satisfied: setuptools in c:\\users\\dell\\anaconda3\\lib\\site-packages (from jsonschema>=3.0->altair>=3.2.0->streamlit) (65.4.1)\n",
      "Requirement already satisfied: attrs>=17.4.0 in c:\\users\\dell\\anaconda3\\lib\\site-packages (from jsonschema>=3.0->altair>=3.2.0->streamlit) (20.3.0)\n",
      "Requirement already satisfied: pyparsing>=2.0.2 in c:\\users\\dell\\anaconda3\\lib\\site-packages (from packaging>=14.1->streamlit) (2.4.7)\n",
      "Requirement already satisfied: pytz>=2017.3 in c:\\users\\dell\\anaconda3\\lib\\site-packages (from pandas>=0.21.0->streamlit) (2021.1)\n",
      "Requirement already satisfied: MarkupSafe>=0.23 in c:\\users\\dell\\anaconda3\\lib\\site-packages (from jinja2->altair>=3.2.0->streamlit) (1.1.1)\n",
      "Requirement already satisfied: urllib3<1.27,>=1.21.1 in c:\\users\\dell\\anaconda3\\lib\\site-packages (from requests>=2.4->streamlit) (1.26.4)\n",
      "Requirement already satisfied: certifi>=2017.4.17 in c:\\users\\dell\\anaconda3\\lib\\site-packages (from requests>=2.4->streamlit) (2020.12.5)\n",
      "Requirement already satisfied: idna<3,>=2.5 in c:\\users\\dell\\anaconda3\\lib\\site-packages (from requests>=2.4->streamlit) (2.10)\n",
      "Requirement already satisfied: chardet<5,>=3.0.2 in c:\\users\\dell\\anaconda3\\lib\\site-packages (from requests>=2.4->streamlit) (4.0.0)\n",
      "Requirement already satisfied: pygments<3.0.0,>=2.6.0 in c:\\users\\dell\\anaconda3\\lib\\site-packages (from rich>=10.11.0->streamlit) (2.8.1)\n",
      "Requirement already satisfied: commonmark<0.10.0,>=0.9.0 in c:\\users\\dell\\anaconda3\\lib\\site-packages (from rich>=10.11.0->streamlit) (0.9.1)\n",
      "Requirement already satisfied: backports.zoneinfo in c:\\users\\dell\\anaconda3\\lib\\site-packages (from tzlocal>=1.1->streamlit) (0.2.1)\n",
      "Requirement already satisfied: tzdata in c:\\users\\dell\\anaconda3\\lib\\site-packages (from tzlocal>=1.1->streamlit) (2022.4)\n",
      "Requirement already satisfied: pytz-deprecation-shim in c:\\users\\dell\\anaconda3\\lib\\site-packages (from tzlocal>=1.1->streamlit) (0.1.0.post0)\n",
      "Requirement already satisfied: decorator>=3.4.0 in c:\\users\\dell\\anaconda3\\lib\\site-packages (from validators>=0.2->streamlit) (5.0.6)\n"
     ]
    }
   ],
   "source": [
    "!pip install streamlit"
   ]
  },
  {
   "cell_type": "code",
   "execution_count": 1,
   "id": "748ad8f7",
   "metadata": {
    "pycharm": {
     "name": "#%%\n"
    }
   },
   "outputs": [
    {
     "name": "stdout",
     "output_type": "stream",
     "text": [
      "Overwriting app.py\n"
     ]
    }
   ],
   "source": [
    "%%writefile app.py\n",
    "import streamlit as st\n",
    "import pandas as pd\n",
    "import pickle \n",
    "import requests\n",
    "\n",
    "movies_dict = pickle.load(open('movies.pkl','rb'))\n",
    "similarity = pickle.load(open('similar.pkl','rb'))\n",
    "movies = pd.DataFrame(movies_dict)     \n",
    "\n",
    "def fetch_poster(movie_id):\n",
    "    response = requests.get(\"https://api.themoviedb.org/3/movie/{}?api_key=150a2108231c511927660bbee0ce71b1&language=en-US\".format(movie_id))\n",
    "    data = response.json()\n",
    "    \n",
    "    return \"https://image.tmdb.org/t/p/w500/\"+data['poster_path']\n",
    "\n",
    "def recommend(movie):\n",
    "    movie_index = movies[movies['title']==movie].index[0]\n",
    "    distances = similarity[movie_index]\n",
    "    movie_list = sorted(list(enumerate(distances)),reverse=True,key=lambda x:x[1])[1:6]\n",
    "    \n",
    "    recommend_movies = []\n",
    "    recommended_poster = []\n",
    "    for i in movie_list:\n",
    "        movie_id = movies.iloc[i[0]].movie_id\n",
    "        recommend_movies.append(movies.iloc[i[0]].title) \n",
    "        recommended_poster.append(fetch_poster(movie_id))\n",
    "    return recommend_movies , recommended_poster\n",
    "        \n",
    "    \n",
    "    for i in movie_list:\n",
    "        print(movies.iloc[i[0]].title)\n",
    "\n",
    "st.title('Movie Recommender System') \n",
    "option = st.selectbox(\n",
    "    'How would you like to be contacted?',\n",
    "    (movies['title']))  \n",
    "\n",
    "\n",
    "st.write('You selected:', option)\n",
    "if st.button('Recommend'):\n",
    "    names,posters = recommend(option)\n",
    "    col1,col2,col3,col4,col5=st.columns(5)\n",
    "    with col1:\n",
    "        st.text(names[0])\n",
    "        st.image(posters[0])\n",
    "    with col2:\n",
    "        st.text(names[1])\n",
    "        st.image(posters[1])\n",
    "    with col3:\n",
    "        st.text(names[2])\n",
    "        st.image(posters[2])\n",
    "    with col4:\n",
    "        st.text(names[3])\n",
    "        st.image(posters[3])\n",
    "    with col5:\n",
    "        st.text(names[4])\n",
    "        st.image(posters[4])           \n",
    "               \n",
    "               "
   ]
  },
  {
   "cell_type": "code",
   "execution_count": null,
   "id": "001b7e73",
   "metadata": {
    "pycharm": {
     "name": "#%%\n"
    }
   },
   "outputs": [],
   "source": [
    "!streamlit run app.py    "
   ]
  }
 ],
 "metadata": {
  "kernelspec": {
   "display_name": "Python 3",
   "language": "python",
   "name": "python3"
  },
  "language_info": {
   "codemirror_mode": {
    "name": "ipython",
    "version": 3
   },
   "file_extension": ".py",
   "mimetype": "text/x-python",
   "name": "python",
   "nbconvert_exporter": "python",
   "pygments_lexer": "ipython3",
   "version": "3.8.8"
  }
 },
 "nbformat": 4,
 "nbformat_minor": 5
}